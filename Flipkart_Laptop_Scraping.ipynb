{
 "cells": [
  {
   "cell_type": "code",
   "execution_count": 1,
   "metadata": {},
   "outputs": [],
   "source": [
    "from bs4 import BeautifulSoup as soup\n",
    "from urllib.request import urlopen as reg\n",
    "url = 'https://www.flipkart.com/gaming-laptops-store?otracker=nmenu_sub_Electronics_0_Gaming%20Laptops&otracker=nmenu_sub_Electronics_0_Gaming%20Laptops'"
   ]
  },
  {
   "cell_type": "code",
   "execution_count": 2,
   "metadata": {},
   "outputs": [],
   "source": [
    "uClient = reg(url)\n",
    "html_page = uClient.read()\n",
    "uClient.close()\n",
    "page_soup = soup(html_page,\"html.parser\")\n",
    "containers = page_soup.findAll(\"div\" , {\"class\",\"_2kSfQ4\"})\n",
    "number_of_laptops = len(containers)\n",
    "i = 0 \n",
    "DataSet = []\n",
    "while(i<number_of_laptops):\n",
    "    data ={}\n",
    "    container = containers[i]\n",
    "    data['Name'] = container.div.img['alt']\n",
    "    data['Current_price'] = container.find(class_=\"_1vC4OE\").get_text(strip=True)\n",
    "    try:\n",
    "        data['Original_price'] = container.find(class_=\"_3auQ3N\").get_text(strip=True)\n",
    "    except AttributeError:\n",
    "         data['Original_price']=None\n",
    "    try:\n",
    "         data['Discount'] = container.find(class_=\"VGWI6T\").get_text(strip=True)\n",
    "    except AttributeError:\n",
    "          data['Discount']=None\n",
    "    try:\n",
    "        data['Rating'] =container.find(class_=\"hGSR34\").get_text(strip=True)\n",
    "    except AttributeError:\n",
    "        data['Rating'] = None\n",
    "        \n",
    "    DataSet.append(data)\n",
    "    i = i + 1"
   ]
  },
  {
   "cell_type": "code",
   "execution_count": 5,
   "metadata": {},
   "outputs": [
    {
     "data": {
      "text/html": [
       "<div>\n",
       "<style scoped>\n",
       "    .dataframe tbody tr th:only-of-type {\n",
       "        vertical-align: middle;\n",
       "    }\n",
       "\n",
       "    .dataframe tbody tr th {\n",
       "        vertical-align: top;\n",
       "    }\n",
       "\n",
       "    .dataframe thead th {\n",
       "        text-align: right;\n",
       "    }\n",
       "</style>\n",
       "<table border=\"1\" class=\"dataframe\">\n",
       "  <thead>\n",
       "    <tr style=\"text-align: right;\">\n",
       "      <th></th>\n",
       "      <th>Name</th>\n",
       "      <th>Original_price</th>\n",
       "      <th>Current_price</th>\n",
       "      <th>Discount</th>\n",
       "      <th>Rating</th>\n",
       "    </tr>\n",
       "  </thead>\n",
       "  <tbody>\n",
       "    <tr>\n",
       "      <th>0</th>\n",
       "      <td>Asus TUF Core i5 8th Gen - (8 GB/1 TB HDD/128 ...</td>\n",
       "      <td>₹77,990</td>\n",
       "      <td>₹64,990</td>\n",
       "      <td>16% off</td>\n",
       "      <td>4.5</td>\n",
       "    </tr>\n",
       "    <tr>\n",
       "      <th>1</th>\n",
       "      <td>MSI GS Core i7 8th Gen - (16 GB/512 GB SSD/Win...</td>\n",
       "      <td>₹1,69,990</td>\n",
       "      <td>₹1,49,990</td>\n",
       "      <td>11% off</td>\n",
       "      <td>4.2</td>\n",
       "    </tr>\n",
       "    <tr>\n",
       "      <th>2</th>\n",
       "      <td>Asus ROG Strix Edition Core i7 7th Gen - (16 G...</td>\n",
       "      <td>None</td>\n",
       "      <td>₹1,39,990</td>\n",
       "      <td>None</td>\n",
       "      <td>5</td>\n",
       "    </tr>\n",
       "    <tr>\n",
       "      <th>3</th>\n",
       "      <td>Asus TUF Core i5 8th Gen - (8 GB/1 TB HDD/Wind...</td>\n",
       "      <td>₹74,990</td>\n",
       "      <td>₹61,990</td>\n",
       "      <td>17% off</td>\n",
       "      <td>4.4</td>\n",
       "    </tr>\n",
       "    <tr>\n",
       "      <th>4</th>\n",
       "      <td>Asus TUF Core i7 8th Gen - (8 GB/1 TB HDD/128 ...</td>\n",
       "      <td>₹1,13,990</td>\n",
       "      <td>₹1,04,990</td>\n",
       "      <td>7% off</td>\n",
       "      <td>4.6</td>\n",
       "    </tr>\n",
       "  </tbody>\n",
       "</table>\n",
       "</div>"
      ],
      "text/plain": [
       "                                                Name Original_price  \\\n",
       "0  Asus TUF Core i5 8th Gen - (8 GB/1 TB HDD/128 ...        ₹77,990   \n",
       "1  MSI GS Core i7 8th Gen - (16 GB/512 GB SSD/Win...      ₹1,69,990   \n",
       "2  Asus ROG Strix Edition Core i7 7th Gen - (16 G...           None   \n",
       "3  Asus TUF Core i5 8th Gen - (8 GB/1 TB HDD/Wind...        ₹74,990   \n",
       "4  Asus TUF Core i7 8th Gen - (8 GB/1 TB HDD/128 ...      ₹1,13,990   \n",
       "\n",
       "  Current_price Discount Rating  \n",
       "0       ₹64,990  16% off    4.5  \n",
       "1     ₹1,49,990  11% off    4.2  \n",
       "2     ₹1,39,990     None      5  \n",
       "3       ₹61,990  17% off    4.4  \n",
       "4     ₹1,04,990   7% off    4.6  "
      ]
     },
     "execution_count": 5,
     "metadata": {},
     "output_type": "execute_result"
    }
   ],
   "source": [
    "import pandas as pd\n",
    "dataframe = pd.DataFrame(DataSet)\n",
    "col_names = [\"Name\",\"Original_price\",\"Current_price\",\"Discount\",\"Rating\"]\n",
    "dataframe = dataframe.reindex(columns=col_names)\n",
    "dataframe.head()"
   ]
  },
  {
   "cell_type": "code",
   "execution_count": 4,
   "metadata": {},
   "outputs": [],
   "source": [
    "dataframe.to_csv(\"Output.csv\")"
   ]
  },
  {
   "cell_type": "code",
   "execution_count": null,
   "metadata": {},
   "outputs": [],
   "source": []
  }
 ],
 "metadata": {
  "kernelspec": {
   "display_name": "Python 3",
   "language": "python",
   "name": "python3"
  },
  "language_info": {
   "codemirror_mode": {
    "name": "ipython",
    "version": 3
   },
   "file_extension": ".py",
   "mimetype": "text/x-python",
   "name": "python",
   "nbconvert_exporter": "python",
   "pygments_lexer": "ipython3",
   "version": "3.7.1"
  }
 },
 "nbformat": 4,
 "nbformat_minor": 2
}
