{
 "cells": [
  {
   "cell_type": "code",
   "execution_count": 1,
   "metadata": {},
   "outputs": [],
   "source": [
    "from bs4 import BeautifulSoup as soup\n",
    "from urllib.request import urlopen as reg\n",
    "url = 'https://www.flipkart.com/gaming-laptops-store?otracker=nmenu_sub_Electronics_0_Gaming%20Laptops&otracker=nmenu_sub_Electronics_0_Gaming%20Laptops'"
   ]
  },
  {
   "cell_type": "code",
   "execution_count": 14,
   "metadata": {},
   "outputs": [
    {
     "name": "stdout",
     "output_type": "stream",
     "text": [
      "Asus TUF Core i5 8th Gen - (8 GB/1 TB HDD/128 GB SSD/Windows 10 Home/4 GB Graphics) FX504GD-E4363T Gaming Laptop ₹64,990 ₹77,990 16% off 4.5\n",
      "MSI GS Core i7 8th Gen - (16 GB/512 GB SSD/Windows 10 Home/6 GB Graphics) GS65 8RE-084IN Gaming Laptop ₹1,69,990 ₹77,990 16% off 4.2\n",
      "MSI GP Core i7 8th Gen - (16 GB/1 TB HDD/256 GB SSD/Windows 10 Home/6 GB Graphics) GP63 Leopard 8RE -442IN Gaming Laptop ₹1,19,990 ₹1,34,990 11% off 4.5\n",
      "Asus ROG Strix Edition Core i7 7th Gen - (16 GB/1 TB HDD/128 GB SSD/Windows 10 Home/6 GB Graphics) GL503VM-FY166T Gaming Laptop ₹1,39,990 ₹1,34,990 11% off 5\n",
      "Asus TUF Core i5 8th Gen - (8 GB/1 TB HDD/Windows 10 Home/4 GB Graphics) FX504GD-E4021T Gaming Laptop ₹61,990 ₹74,990 17% off 4.4\n",
      "Acer Predator Helios 300 Core i5 7th Gen - (8 GB/1 TB HDD/128 GB SSD/Windows 10 Home/4 GB Graphics) G3-572 Gaming Laptop ₹76,990 ₹1,20,000 35% off 4.5\n",
      "Acer Predator Helios 300 Core i5 8th Gen - (8 GB/1 TB HDD/128 GB SSD/Windows 10 Home/4 GB Graphics) PH315-51-5909 Gaming Laptop ₹70,990 ₹94,799 25% off 4.3\n",
      "Acer Nitro 5 Core i7 7th Gen - (8 GB/1 TB HDD/Windows 10 Home/2 GB Graphics) AN515-51 Gaming Laptop ₹72,990 ₹74,990 2% off 4.3\n",
      "Acer Nitro 5 Core i5 7th Gen - (8 GB/1 TB HDD/Windows 10 Home/2 GB Graphics) AN515-51 Gaming Laptop ₹57,990 ₹62,000 6% off 4.4\n",
      "Acer Predator Helios 300 Core i7 8th Gen - (8 GB/1 TB HDD/128 GB SSD/Windows 10 Home/4 GB Graphics) PH315-51 Gaming Laptop ₹80,990 ₹1,19,649 32% off 4.7\n",
      "Acer Predator Helios 300 Core i7 8th Gen - (8 GB/1 TB HDD/128 GB SSD/Windows 10 Home/4 GB Graphics) PH315-51 Gaming Laptop ₹1,27,999 ₹1,19,649 32% off 4.6\n",
      "Acer Predator 15 Core i7 7th Gen - (16 GB/1 TB HDD/256 GB SSD/Windows 10 Home/6 GB Graphics) G9-593 Gaming Laptop ₹1,59,703 ₹1,19,649 32% off 4.6\n",
      "MSI GV Series Core i7 7th Gen - (8 GB/1 TB HDD/128 GB SSD/Windows 10 Home/4 GB Graphics) GV62 7RE-2401IN Gaming Laptop ₹1,04,990 ₹1,19,649 32% off 4.6\n",
      "MSI GV Core i5 7th Gen - (8 GB/1 TB HDD/Windows 10 Home/4 GB Graphics) GV62 7RD-2824IN Gaming Laptop ₹66,990 ₹72,990 8% off 4.5\n",
      "MSI GL Core i7 7th Gen - (8 GB/1 TB HDD/DOS/2 GB Graphics) GL62M 7RDX-1878XIN Gaming Laptop ₹79,257 ₹72,990 8% off 3.7\n",
      "MSI GV Series Core i7 8th Gen - (16 GB/1 TB HDD/128 GB SSD/Windows 10 Home/6 GB Graphics) GV62 8RE-050IN Gaming Laptop ₹1,01,990 ₹1,24,990 18% off 4.5\n",
      "MSI Dominator Pro Core i7 4th Gen - (8 GB/1 TB HDD/Windows 8 Pro/8 GB Graphics) GT72 2QE Gaming Laptop ₹2,05,000 ₹2,30,000 10% off 4.2\n",
      "MSI Stealth Core i7 8th Gen - (16 GB/512 GB SSD/Windows 10 Home/8 GB Graphics) GS65 Gaming Laptop ₹2,09,990 ₹2,30,000 10% off 4.2\n",
      "Dell Inspiron 7000 Core i7 6th Gen - (8 GB/1 TB HDD/8 GB SSD/Windows 10 Home/4 GB Graphics) 7559 Gaming Laptop ₹94,990 ₹2,30,000 10% off 3.9\n",
      "Dell Inspiron Core i7 7th Gen - (16 GB/1 TB HDD/256 GB SSD/Windows 10 Home/4 GB Graphics) 7567 Gaming Laptop ₹1,04,697 ₹2,30,000 10% off 4.5\n",
      "Dell Inspiron Core i7 6th Gen - (8 GB/1 TB HDD/8 GB SSD/Windows 10 Home/4 GB Graphics) 7559 Gaming Laptop ₹86,990 ₹1,15,000 24% off 3.8\n",
      "Dell 5000 Core i7 7th Gen - (8 GB/1 TB HDD/128 GB SSD/Windows 10 Home/4 GB Graphics) 5577 Gaming Laptop ₹86,990 ₹87,000 24% off 4.4\n",
      "Dell G3 15 3000 Series Core i5 8th Gen - (8 GB + 16 GB Optane/1 TB HDD/Windows 10 Home/4 GB Graphics) G3-3579 Gaming Laptop ₹80,742 ₹87,000 24% off 3.8\n",
      "Dell 5000 Core i5 7th Gen - (8 GB/1 TB HDD/Windows 10 Home/4 GB Graphics) 5577 Gaming Laptop ₹71,990 ₹74,000 2% off 4.4\n",
      "Asus TUF Series Core i7 8th Gen - (8 GB/1 TB HDD/256 GB SSD/Windows 10 Home/4 GB Graphics) FX505GE-BQ030T Gaming Laptop ₹89,990 ₹74,000 2% off 4\n",
      "Asus FX503 Core i7 7th Gen - (8 GB/1 TB HDD/Windows 10 Home/4 GB Graphics) FX503VD-DM111T Gaming Laptop ₹70,990 ₹74,990 5% off 4.4\n",
      "Asus FX553 Core i7 7th Gen - (8 GB/1 TB HDD/Windows 10 Home/4 GB Graphics) FX553VD-DM013T Gaming Laptop ₹70,990 ₹77,990 8% off 4.4\n",
      "Asus ROG Strix Scar II Core i7 8th Gen - (16 GB/1 TB HDD/256 GB SSD/Windows 10 Home/6 GB Graphics) GL504GM-ES155T Gaming Laptop ₹1,49,990 ₹1,67,990 10% off 4.9\n",
      "Asus FX Series Core i7 7th Gen - (8 GB/1 TB HDD/Linux/2 GB Graphics) FX553VD Gaming Laptop ₹74,000 ₹79,990 7% off 4.6\n",
      "Asus ROG Strix Core i7 8th Gen - (16 GB/1 TB HDD/256 GB SSD/Windows 10 Home/4 GB Graphics) GL503GE-EN270T Gaming Laptop ₹1,09,990 ₹1,25,990 12% off 4.8\n"
     ]
    }
   ],
   "source": [
    "uClient = reg(url)\n",
    "html_page = uClient.read()\n",
    "uClient.close()\n",
    "page_soup = soup(html_page,\"html.parser\")\n",
    "containers = page_soup.findAll(\"div\" , {\"class\",\"_2kSfQ4\"})\n",
    "number_of_laptops = len(containers)\n",
    "i = 0 \n",
    "while(i<number_of_laptops):\n",
    "    container = containers[i]\n",
    "    name = container.div.img['alt']\n",
    "    Current_price = container.find(class_=\"_1vC4OE\").get_text(strip=True)\n",
    "    try:\n",
    "        original_price = container.find(class_=\"_3auQ3N\").get_text(strip=True)\n",
    "        Discount = container.find(class_=\"VGWI6T\").get_text(strip=True)\n",
    "    except AttributeError:\n",
    "        ;\n",
    "    try:\n",
    "        rating =container.find(class_=\"hGSR34\").get_text(strip=True)\n",
    "    except AttributeError:\n",
    "        ;\n",
    "    print(name,Current_price,original_price,Discount,rating)\n",
    "    i = i + 1"
   ]
  },
  {
   "cell_type": "code",
   "execution_count": null,
   "metadata": {},
   "outputs": [],
   "source": []
  }
 ],
 "metadata": {
  "kernelspec": {
   "display_name": "Python 3",
   "language": "python",
   "name": "python3"
  },
  "language_info": {
   "codemirror_mode": {
    "name": "ipython",
    "version": 3
   },
   "file_extension": ".py",
   "mimetype": "text/x-python",
   "name": "python",
   "nbconvert_exporter": "python",
   "pygments_lexer": "ipython3",
   "version": "3.7.0"
  }
 },
 "nbformat": 4,
 "nbformat_minor": 2
}
